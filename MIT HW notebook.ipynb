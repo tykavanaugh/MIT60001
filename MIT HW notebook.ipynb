{
 "cells": [
  {
   "cell_type": "code",
   "execution_count": 39,
   "metadata": {
    "collapsed": true
   },
   "outputs": [],
   "source": [
    "#!/usr/bin/env python3\n",
    "# -*- coding: utf-8 -*-\n",
    "\"\"\"\n",
    "Created on Mon Dec 24 07:22:48 2018\n",
    "\n",
    "MIT PS1 HW\n",
    "\n",
    "@author: BlackBox\n",
    "\"\"\"\n",
    "import math\n",
    "\n",
    "#Part A\n",
    "def partA(annualSalary=120000,percentSaved=.1,cost=1000000):\n",
    "    #annualSalary = float(input('Annual Salary: '))\n",
    "    #percentSaved = float(input('Percent Saved in Decimal: '))\n",
    "    #cost = float(input('Enter cost of home: '))\n",
    "    currentSavings = 0\n",
    "    months = 1\n",
    "    downPayment = cost * .25\n",
    "    while (currentSavings < downPayment):\n",
    "        currentSavings += ((annualSalary / 12) * percentSaved)\n",
    "        currentSavings += ((currentSavings*.04)/12)\n",
    "        months += 1\n",
    "    print('Number of months: {}'.format(months))\n",
    "    \n",
    "def partB(annualSalary=120000,percentSaved=.05,cost=500000,raisePercent=.03):\n",
    "    #annualSalary = float(input('Annual Salary: '))\n",
    "    #percentSaved = float(input('Percent Saved in Decimal: '))\n",
    "    #cost = float(input('Enter cost of home: '))\n",
    "    #raisePercent = float(input('Percent semiannual raise in Decimal '))\n",
    "    currentSavings = 0\n",
    "    months = 0\n",
    "    downPayment = cost * .25\n",
    "    while (currentSavings < downPayment):\n",
    "        months += 1\n",
    "        currentSavings += ((currentSavings*.04)/12)\n",
    "        currentSavings += ((annualSalary / 12) * percentSaved)\n",
    "        if ((months+1) % 6) == True:\n",
    "            annualSalary = annualSalary + (annualSalary * raisePercent)\n",
    "    print('Number of months: {}'.format((months)))\n",
    "\n",
    "def partCabortion(annualSalary=150000):\n",
    "    bisectionSteps = 0\n",
    "    while (bisectionSteps > 100):\n",
    "        print('Loop detected')\n",
    "        return(None)\n",
    "    a = 0\n",
    "    b = 1\n",
    "    midpoint = (a+b) / 2\n",
    "    def calculate(annualSalary,percentSaved):\n",
    "        currentSavings = 0\n",
    "        downPayment = 250000\n",
    "        while (currentSavings < downPayment):\n",
    "            months = 0\n",
    "            raisePercent = .07\n",
    "            months += 1\n",
    "            currentSavings += ((currentSavings*.04)/12)\n",
    "            currentSavings += ((annualSalary / 12) * percentSaved)\n",
    "            if ((months+1) % 6) == True:\n",
    "                annualSalary = annualSalary + (annualSalary * raisePercent)\n",
    "            return(months)\n",
    "    while (calculate(annualSalary,midpoint)) < 36:\n",
    "        b = midpoint\n",
    "        midpoint = (a+b) / 2\n",
    "        bisectionSteps += 1\n",
    "        print(midpoint)\n",
    "    while (calculate(annualSalary,midpoint)) > 36:\n",
    "        a = midpoint\n",
    "        midpoint = (midpoint+b) / 2\n",
    "        bisectionSteps += 1\n",
    "        print(midpoint)\n",
    "\n",
    "def months(annualSalary=75000,percentSaved=.05,cost=1000000,raisePercent=.07):\n",
    "    #annualSalary = float(input('Annual Salary: '))\n",
    "    #percentSaved = float(input('Percent Saved in Decimal: '))\n",
    "    #cost = float(input('Enter cost of home: '))\n",
    "    #raisePercent = float(input('Percent semiannual raise in Decimal '))\n",
    "    currentSavings = 0\n",
    "    months = 0\n",
    "    downPayment = cost * .25\n",
    "    while (currentSavings < downPayment):\n",
    "        months += 1\n",
    "        currentSavings += ((currentSavings*.04)/12)\n",
    "        currentSavings += ((annualSalary / 12) * percentSaved)\n",
    "        if ((months+1) % 6) == True:\n",
    "            annualSalary = annualSalary + (annualSalary * raisePercent)\n",
    "    return(months)\n",
    "    \n",
    "def bisection(salary):\n",
    "    high = 1\n",
    "    low = 0\n",
    "    loop = True\n",
    "    tracker = 0\n",
    "    if months(salary,1) > 36:\n",
    "        print(\"Not possible\")\n",
    "        return None\n",
    "    while loop:\n",
    "        tracker += 1\n",
    "        midpoint = (high+low) / 2\n",
    "        if months(annualSalary=salary,percentSaved=midpoint) == 36:\n",
    "            print('For {} it will take {} put away to achieve the goal in 36 months'.format(salary,midpoint))\n",
    "            print('It took {} searches to complete process'.format(tracker))\n",
    "            loop = False\n",
    "        if months(salary,midpoint) < 36:\n",
    "            print(midpoint)\n",
    "            high = midpoint\n",
    "        if months(salary,midpoint) > 36:\n",
    "            print(midpoint)\n",
    "            low = midpoint\n"
   ]
  },
  {
   "cell_type": "code",
   "execution_count": 40,
   "metadata": {},
   "outputs": [
    {
     "name": "stdout",
     "output_type": "stream",
     "text": [
      "Not possible\n"
     ]
    }
   ],
   "source": [
    "bisection(10000)"
   ]
  },
  {
   "cell_type": "code",
   "execution_count": 41,
   "metadata": {},
   "outputs": [
    {
     "name": "stdout",
     "output_type": "stream",
     "text": [
      "0.5\n",
      "0.25\n",
      "0.125\n",
      "0.1875\n",
      "0.21875\n",
      "0.234375\n",
      "For 300000 it will take 0.2265625 put away to achieve the goal in 36 months\n",
      "It took 7 searches to complete process\n"
     ]
    }
   ],
   "source": [
    "bisection(300000)"
   ]
  },
  {
   "cell_type": "code",
   "execution_count": 42,
   "metadata": {},
   "outputs": [
    {
     "name": "stdout",
     "output_type": "stream",
     "text": [
      "0.5\n",
      "0.25\n",
      "0.375\n",
      "0.4375\n",
      "0.46875\n",
      "For 150000 it will take 0.453125 put away to achieve the goal in 36 months\n",
      "It took 6 searches to complete process\n"
     ]
    }
   ],
   "source": [
    "bisection(150000)"
   ]
  },
  {
   "cell_type": "code",
   "execution_count": null,
   "metadata": {
    "collapsed": true
   },
   "outputs": [],
   "source": []
  }
 ],
 "metadata": {
  "kernelspec": {
   "display_name": "Python 3",
   "language": "python",
   "name": "python3"
  },
  "language_info": {
   "codemirror_mode": {
    "name": "ipython",
    "version": 3
   },
   "file_extension": ".py",
   "mimetype": "text/x-python",
   "name": "python",
   "nbconvert_exporter": "python",
   "pygments_lexer": "ipython3",
   "version": "3.6.7"
  }
 },
 "nbformat": 4,
 "nbformat_minor": 2
}
