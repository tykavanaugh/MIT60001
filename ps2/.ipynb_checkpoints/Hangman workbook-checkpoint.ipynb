{
 "cells": [
  {
   "cell_type": "code",
   "execution_count": 153,
   "metadata": {
    "collapsed": true
   },
   "outputs": [],
   "source": [
    "import random\n",
    "import string"
   ]
  },
  {
   "cell_type": "code",
   "execution_count": 154,
   "metadata": {},
   "outputs": [],
   "source": [
    "def is_word_guesssed(secret_word,letters_guessed):\n",
    "    guessed = True\n",
    "    secret_list = []\n",
    "    for i in secret_word:\n",
    "        if i not in secret_list:\n",
    "            secret_list.append(i)\n",
    "    for i in secret_list:\n",
    "        for l in letters_guessed:\n",
    "            if l not in secret_list:\n",
    "                guessed = False\n",
    "    for i in secret_list:\n",
    "        if i not in letters_guessed:\n",
    "            return False\n",
    "    return guessed\n",
    "\n",
    "def get_guessed_word(secret_word,letters_guessed):\n",
    "    output = []\n",
    "    for i in secret_word:\n",
    "            if i in letters_guessed:\n",
    "                output.append(i)\n",
    "            else:\n",
    "                output.append('_')\n",
    "    output = ''.join(output)\n",
    "    return(output)\n",
    "    \n",
    "def get_available_letters(letters_guessed,alphabet):\n",
    "    for i in letters_guessed:\n",
    "        if i in alphabet:\n",
    "            alphabet = alphabet.replace(i,'')\n",
    "    return alphabet"
   ]
  },
  {
   "cell_type": "code",
   "execution_count": 155,
   "metadata": {
    "collapsed": true
   },
   "outputs": [],
   "source": [
    "\n",
    "\n",
    "WORDLIST_FILENAME = \"words.txt\"\n",
    "\n",
    "\n",
    "def load_words():\n",
    "    \"\"\"\n",
    "    Returns a list of valid words. Words are strings of lowercase letters.\n",
    "    \n",
    "    Depending on the size of the word list, this function may\n",
    "    take a while to finish.\n",
    "    \"\"\"\n",
    "    print(\"Loading word list from file...\")\n",
    "    # inFile: file\n",
    "    inFile = open(WORDLIST_FILENAME, 'r')\n",
    "    # line: string\n",
    "    line = inFile.readline()\n",
    "    # wordlist: list of strings\n",
    "    wordlist = line.split()\n",
    "    print(\"  \", len(wordlist), \"words loaded.\")\n",
    "    return wordlist\n",
    "\n",
    "\n",
    "\n",
    "def choose_word(wordlist):\n",
    "    \"\"\"\n",
    "    wordlist (list): list of words (strings)\n",
    "    \n",
    "    Returns a word from wordlist at random\n",
    "    \"\"\"\n",
    "    return random.choice(wordlist)"
   ]
  },
  {
   "cell_type": "code",
   "execution_count": 158,
   "metadata": {},
   "outputs": [],
   "source": [
    "def hangman():\n",
    "    alphabet = 'abcdefghijklmnopqrstuvwxyz'\n",
    "    wordlist = load_words()\n",
    "    secret_word = choose_word(wordlist)\n",
    "    letters_guessed = []\n",
    "    while (is_word_guesssed(secret_word,letters_guessed) == False):\n",
    "        print(get_guessed_word(secret_word,letters_guessed))\n",
    "        print('You have these letters still to choose from:')\n",
    "        print(get_available_letters(letters_guessed,alphabet))\n",
    "        letters_guessed = input('Please type a lowercase letter you would like to guess')"
   ]
  },
  {
   "cell_type": "code",
   "execution_count": null,
   "metadata": {},
   "outputs": [
    {
     "name": "stdout",
     "output_type": "stream",
     "text": [
      "Loading word list from file...\n",
      "   55900 words loaded.\n",
      "_______\n",
      "You have these letters still to choose from:\n",
      "abcdefghijklmnopqrstuvwxyz\n",
      "Please type a lowercase letter you would like to guessa\n",
      "_______\n",
      "You have these letters still to choose from:\n",
      "bcdefghijklmnopqrstuvwxyz\n",
      "Please type a lowercase letter you would like to guesse\n",
      "_____e_\n",
      "You have these letters still to choose from:\n",
      "abcdfghijklmnopqrstuvwxyz\n",
      "Please type a lowercase letter you would like to guessz\n",
      "_______\n",
      "You have these letters still to choose from:\n",
      "abcdefghijklmnopqrstuvwxy\n"
     ]
    }
   ],
   "source": [
    "hangman()"
   ]
  },
  {
   "cell_type": "code",
   "execution_count": 141,
   "metadata": {},
   "outputs": [
    {
     "data": {
      "text/plain": [
       "False"
      ]
     },
     "execution_count": 141,
     "metadata": {},
     "output_type": "execute_result"
    }
   ],
   "source": [
    "is_word_guesssed(secret_word,letters_guessed)"
   ]
  },
  {
   "cell_type": "code",
   "execution_count": null,
   "metadata": {
    "collapsed": true
   },
   "outputs": [],
   "source": []
  }
 ],
 "metadata": {
  "kernelspec": {
   "display_name": "Python 3",
   "language": "python",
   "name": "python3"
  },
  "language_info": {
   "codemirror_mode": {
    "name": "ipython",
    "version": 3
   },
   "file_extension": ".py",
   "mimetype": "text/x-python",
   "name": "python",
   "nbconvert_exporter": "python",
   "pygments_lexer": "ipython3",
   "version": "3.6.7"
  }
 },
 "nbformat": 4,
 "nbformat_minor": 2
}
